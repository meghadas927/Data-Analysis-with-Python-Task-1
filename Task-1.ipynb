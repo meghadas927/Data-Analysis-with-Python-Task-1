{
 "cells": [
  {
   "cell_type": "markdown",
   "id": "a5b774d5",
   "metadata": {},
   "source": [
    "# TASK-1"
   ]
  },
  {
   "cell_type": "markdown",
   "id": "1be44911",
   "metadata": {},
   "source": [
    "# Understanding the Basic Data types of Python"
   ]
  },
  {
   "cell_type": "code",
   "execution_count": 5,
   "id": "78b02ea2",
   "metadata": {},
   "outputs": [
    {
     "name": "stdout",
     "output_type": "stream",
     "text": [
      "Updated List: [10, 2, 4, 5, 6]\n"
     ]
    }
   ],
   "source": [
    "#Creating a list\n",
    "My_list =[1,2,3,4,5]\n",
    "#Adding an element to the list\n",
    "My_list.append(6)\n",
    "# Removing an element from the list\n",
    "My_list.remove(3)\n",
    "#Modifying an element from the list\n",
    "My_list[0]=10\n",
    "print(\"Updated List:\",My_list)"
   ]
  },
  {
   "cell_type": "code",
   "execution_count": 11,
   "id": "1da980f6",
   "metadata": {},
   "outputs": [
    {
     "name": "stdout",
     "output_type": "stream",
     "text": [
      "Updated Dictionary: {'Name': 'John', 'City': 'Mumbai', 'Gender': 'Male'}\n"
     ]
    }
   ],
   "source": [
    "#Creating a Dictionary\n",
    "My_dict ={\"Name\":\"John\",\"Age\":25,\"City\":\"Delhi\"}\n",
    "#Adding\n",
    "My_dict[\"Gender\"]=\"Male\"\n",
    "# Removing\n",
    "del My_dict['Age']\n",
    "#Modifying\n",
    "My_dict[\"City\"]=\"Mumbai\"\n",
    "print(\"Updated Dictionary:\",My_dict)"
   ]
  },
  {
   "cell_type": "code",
   "execution_count": 12,
   "id": "ae2b546b",
   "metadata": {},
   "outputs": [
    {
     "name": "stdout",
     "output_type": "stream",
     "text": [
      "Updated Set: {2, 4, 5, 6, 10}\n"
     ]
    }
   ],
   "source": [
    "#Creating a Set\n",
    "My_set ={1,2,3,4,5}\n",
    "#Adding an element to the Set\n",
    "My_set.add(6)\n",
    "# Removing an element from the Set\n",
    "My_set.remove(3)\n",
    "#Modifying an element from the Set\n",
    "My_set.discard(1)\n",
    "My_set.add(10)\n",
    "print(\"Updated Set:\",My_set)"
   ]
  }
 ],
 "metadata": {
  "kernelspec": {
   "display_name": "Python 3 (ipykernel)",
   "language": "python",
   "name": "python3"
  },
  "language_info": {
   "codemirror_mode": {
    "name": "ipython",
    "version": 3
   },
   "file_extension": ".py",
   "mimetype": "text/x-python",
   "name": "python",
   "nbconvert_exporter": "python",
   "pygments_lexer": "ipython3",
   "version": "3.11.5"
  }
 },
 "nbformat": 4,
 "nbformat_minor": 5
}
